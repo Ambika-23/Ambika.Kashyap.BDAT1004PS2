{
 "cells": [
  {
   "cell_type": "raw",
   "metadata": {},
   "source": [
    "Question 1\n",
    "Consider the following Python module:\n",
    "a = 0\n",
    "def b():\n",
    " global a\n",
    " a = c(a)\n",
    "def c(a):\n",
    " return a + 2\n",
    "After importing the module into the interpreter, you execute:\n",
    ">>> b()\n",
    ">>> b()\n",
    ">>> b()\n",
    ">>> a\n",
    "?\n",
    "What value is displayed when the last expression (a) is evaluated? Explain your\n",
    "answer by indicating what happens in every executed statement."
   ]
  },
  {
   "cell_type": "code",
   "execution_count": 1,
   "metadata": {},
   "outputs": [],
   "source": [
    "a = 0\n",
    "\n",
    "def b():\n",
    "    global a\n",
    "    a = c(a)\n",
    "    \n",
    "def c(a):\n",
    "    return a + 2"
   ]
  },
  {
   "cell_type": "code",
   "execution_count": 2,
   "metadata": {},
   "outputs": [],
   "source": [
    "b()"
   ]
  },
  {
   "cell_type": "code",
   "execution_count": 3,
   "metadata": {},
   "outputs": [],
   "source": [
    "b()"
   ]
  },
  {
   "cell_type": "code",
   "execution_count": 4,
   "metadata": {},
   "outputs": [],
   "source": [
    "b()"
   ]
  },
  {
   "cell_type": "code",
   "execution_count": 5,
   "metadata": {},
   "outputs": [
    {
     "data": {
      "text/plain": [
       "6"
      ]
     },
     "execution_count": 5,
     "metadata": {},
     "output_type": "execute_result"
    }
   ],
   "source": [
    "a"
   ]
  },
  {
   "cell_type": "raw",
   "metadata": {},
   "source": [
    "Question 2\n",
    "Function fileLength(), given to you, takes the name of a file as input and returns\n",
    "the length of the file:\n",
    ">>> fileLength('midterm.py')\n",
    "284\n",
    ">>> fileLength('idterm.py')\n",
    "Traceback (most recent call last):\n",
    "File \"<pyshell#34>\", line 1, in <module>\n",
    " fileLength('idterm.py')\n",
    "File \"/Users/me/midterm.py\", line 3, in fileLength\n",
    " infile = open(filename)\n",
    "FileNotFoundError: [Errno 2] No such file or directory:\n",
    "'idterm.py'\n",
    "As shown above, if the file cannot be found by the interpreter or if it cannot be read\n",
    "as a text file, an exception will be raised. Modify function fileLength() so that a\n",
    "friendly message is printed instead:\n",
    ">>> fileLength('midterm.py')\n",
    "358\n",
    ">>> fileLength('idterm.py')\n",
    "File idterm.py not found.\n"
   ]
  },
  {
   "cell_type": "code",
   "execution_count": 2,
   "metadata": {},
   "outputs": [],
   "source": [
    "import os    \n",
    "\n",
    "def fileLength(file): \n",
    "    try:                                \n",
    "        return os.stat(file).st_size        \n",
    "    except FileNotFoundError:                           \n",
    "        print (\"File \"+file+\" not found\")               \n",
    "        return \n",
    "    except IOError:                                          \n",
    "        print (\"File \"+file+\" Can not read\")            \n",
    "        return \n",
    "    except:\n",
    "        print (\"Unexpected Error!\")                     \n",
    "        return"
   ]
  },
  {
   "cell_type": "code",
   "execution_count": 3,
   "metadata": {},
   "outputs": [
    {
     "data": {
      "text/plain": [
       "123"
      ]
     },
     "execution_count": 3,
     "metadata": {},
     "output_type": "execute_result"
    }
   ],
   "source": [
    "fileLength('midterm.py')"
   ]
  },
  {
   "cell_type": "code",
   "execution_count": 4,
   "metadata": {},
   "outputs": [
    {
     "name": "stdout",
     "output_type": "stream",
     "text": [
      "File idterm.py not found\n"
     ]
    }
   ],
   "source": [
    "fileLength('idterm.py')"
   ]
  },
  {
   "cell_type": "raw",
   "metadata": {},
   "source": [
    "Question 3\n",
    "Write a class named Marsupial that can be used as shown below:\n",
    ">>> m = Marsupial()\n",
    ">>> m.put_in_pouch('doll')\n",
    ">>> m.put_in_pouch('firetruck')\n",
    ">>> m.put_in_pouch('kitten')\n",
    ">>> m.pouch_contents()\n",
    "['doll', 'firetruck', 'kitten']\n",
    "Now write a class named Kangaroo as a subclass of Marsupial that inherits all the\n",
    "attributes of Marsupial and also:\n",
    "a. extends the Marsupial __init__ constructor to take, as input, the\n",
    "coordinates x and y of the Kangaroo object,\n",
    "b. supports method jump that takes number values dx and dy as input and\n",
    "moves the kangaroo by dx units along the x-axis and by dy units along the yaxis, and\n",
    "c. overloads the __str__ operator so it behaves as shown below.\n",
    ">>> k = Kangaroo(0,0)\n",
    ">>> print(k)\n",
    "I am a Kangaroo located at coordinates (0,0)\n",
    ">>> k.put_in_pouch('doll')\n",
    ">>> k.put_in_pouch('firetruck')\n",
    ">>> k.put_in_pouch('kitten')\n",
    ">>> k.pouch_contents()\n",
    "['doll', 'firetruck', 'kitten']\n",
    ">>> k.jump(1,0)\n",
    ">>> k.jump(1,0)\n",
    ">>> k.jump(1,0)\n",
    ">>> print(k)\n",
    "I am a Kangaroo located at coordinates (3,0)\n"
   ]
  },
  {
   "cell_type": "code",
   "execution_count": 5,
   "metadata": {},
   "outputs": [],
   "source": [
    " class Marsupial:\n",
    "    \n",
    "    def __init__(self): \n",
    "        self.p=[]   \n",
    "        \n",
    "    def put_in_pouch(self,item):\n",
    "                self.p.append(item)  \n",
    "        \n",
    "    def pouch_contents(self):       \n",
    "        return (self.p)"
   ]
  },
  {
   "cell_type": "code",
   "execution_count": 6,
   "metadata": {},
   "outputs": [
    {
     "data": {
      "text/plain": [
       "['doll', 'firetruck', 'kitten']"
      ]
     },
     "execution_count": 6,
     "metadata": {},
     "output_type": "execute_result"
    }
   ],
   "source": [
    "m = Marsupial() \n",
    "m.put_in_pouch('doll')\n",
    "m.put_in_pouch('firetruck')\n",
    "m.put_in_pouch('kitten')\n",
    "m.pouch_contents()"
   ]
  },
  {
   "cell_type": "code",
   "execution_count": 12,
   "metadata": {},
   "outputs": [],
   "source": [
    "class Kangaroo(Marsupial):      \n",
    "    x=0\n",
    "    y=0\n",
    "    def __init__(self, x,y):   \n",
    "        self.x = x   \n",
    "        self.y = y\n",
    "    \n",
    "    def jump(self,dx,dy):\n",
    "        self.x = self.x+dx\n",
    "        self.y = self.y+dy\n",
    "        \n",
    "    def __str__(self):\n",
    "        return 'I am a Kangaroo located at coordinates ('+str(self.x)+','+str(self.y)+')'"
   ]
  },
  {
   "cell_type": "code",
   "execution_count": 8,
   "metadata": {},
   "outputs": [
    {
     "name": "stdout",
     "output_type": "stream",
     "text": [
      "I am a Kangaroo located at coordinates (0,0)\n"
     ]
    }
   ],
   "source": [
    "k = Kangaroo(0,0)\n",
    "print(k)"
   ]
  },
  {
   "cell_type": "code",
   "execution_count": 13,
   "metadata": {},
   "outputs": [
    {
     "data": {
      "text/plain": [
       "['doll', 'firetruck', 'kitten']"
      ]
     },
     "execution_count": 13,
     "metadata": {},
     "output_type": "execute_result"
    }
   ],
   "source": [
    "k.put_in_pouch('doll')\n",
    "k.put_in_pouch('firetruck')\n",
    "k.put_in_pouch('kitten')\n",
    "k.pouch_contents()"
   ]
  },
  {
   "cell_type": "code",
   "execution_count": 14,
   "metadata": {},
   "outputs": [
    {
     "name": "stdout",
     "output_type": "stream",
     "text": [
      "I am a Kangaroo located at coordinates (3,0)\n"
     ]
    }
   ],
   "source": [
    "k.jump(1,0)\n",
    "k.jump(1,0)\n",
    "k.jump(1,0)\n",
    "print(k)"
   ]
  },
  {
   "cell_type": "raw",
   "metadata": {},
   "source": [
    "Question 4\n",
    "Implement a new GUI class App that combines user-defined tkinter widget classes\n",
    "Calculator and Mortgage "
   ]
  },
  {
   "cell_type": "code",
   "execution_count": 107,
   "metadata": {},
   "outputs": [],
   "source": [
    "from tkinter import Tk, Canvas, Frame, BOTH, Button, Entry, END, Label, LEFT, RIGHT, RAISED\n",
    "import math\n",
    "\n",
    "class Mortgage(Frame):\n",
    "    \n",
    "    def __init__(self, parent):\n",
    "        Frame.__init__(self, parent)\n",
    "        \n",
    "        label = Label(self, text='Loan Amount:')\n",
    "        label.grid(row=0, column=0, padx=10, pady=10)\n",
    "        \n",
    "        self.loanEnt = Entry(self)\n",
    "        self.loanEnt.grid(row=0, column=1, padx=10, pady=10)\n",
    "        \n",
    "        label = Label(self, text='Interest Rate:')\n",
    "        label.grid(row=1, column=0, padx=10, pady=5)\n",
    "        \n",
    "        self.interestEnt = Entry(self)\n",
    "        self.interestEnt.grid(row=1, column=1, padx=10, pady=5)\n",
    "        \n",
    "        label = Label(self, text='Loan Terms:')\n",
    "        label.grid(row=2, column=0, padx=10, pady=5)\n",
    "        \n",
    "        self.termsEnt = Entry(self)\n",
    "        self.termsEnt.grid(row=2, column=1, padx=10, pady=5)\n",
    "        \n",
    "        button = Button(self, text='Compute Mortgage:', command=self.compute)\n",
    "        button.grid(row=3, column=0, padx=10, pady=5)\n",
    "        \n",
    "        self.mortgageAmount = Entry(self)\n",
    "        self.mortgageAmount.grid(row=3, column=1, padx=10, pady=5)\n",
    "        \n",
    "    def compute(self):\n",
    "        self.P = float(self.loanEnt.get())\n",
    "        self.r = float(self.interestEnt.get())/100\n",
    "        self.t = float(self.termsEnt.get())\n",
    "        self.n = 12\n",
    "        self.M = (self.P*(self.r/self.n)*(1 + (self.r / self.n))**(self.n*self.t))/(((1 + (self.r / self.n))**(self.n*self.t)) - 1)\n",
    "        self.mortgageAmount.delete(0, END)\n",
    "        self.mortgageAmount.insert(0, round(self.M, 2))\n",
    "class Calculator(Frame):\n",
    "    \n",
    "    def __init__(self, parent):\n",
    "        Frame.__init__(self, parent)\n",
    "        \n",
    "        self.displayArea = Entry(self, bg = 'gray75')\n",
    "        self.displayArea.grid(row=0, column=1, padx=5, pady=5)\n",
    "        self.displayArea.focus_set()\n",
    "        \n",
    "        buttonMC = Button(self, text='MC', bg ='white', command=self.clearall, height=1, width=3, relief=RAISED)\n",
    "        buttonMC.grid(row=1, column=0, padx=5, pady=5)\n",
    "        \n",
    "        buttonMP = Button(self, text='M+', bg ='white', command=self.clearall, height=1, width=3, relief=RAISED)\n",
    "        buttonMP.grid(row=1, column=1, padx=5, pady=5)\n",
    "        \n",
    "        buttonMM = Button(self, text='M-', bg ='white', command=self.clearall, height=1, width=3, relief=RAISED)\n",
    "        buttonMM.grid(row=1, column=2, padx=5, pady=5)\n",
    "        \n",
    "        buttonMR = Button(self, text='MR', bg ='white', command=self.clearall, height=1, width=3, relief=RAISED)\n",
    "        buttonMR.grid(row=1, column=3, padx=5, pady=5)\n",
    "        \n",
    "      \n",
    "        \n",
    "        \n",
    "        buttonC = Button(self, text='C', bg ='white', height=1, width=3, relief=RAISED, command=self.clearall)\n",
    "        buttonC.grid(row=2, column=0, padx=5, pady=5)\n",
    "        \n",
    "        buttonSquareRoot = Button(self, text='SqR', bg ='white', height=1, width=3, relief=RAISED, command=self.squareRoot)\n",
    "        buttonSquareRoot.grid(row=2, column=1, padx=5, pady=5)\n",
    "        \n",
    "        buttonSquare = Button(self, text='x^2', bg ='white', height=1, width=3, relief=RAISED, command=self.square)\n",
    "        buttonSquare.grid(row=2, column=2, padx=5, pady=5)\n",
    "        \n",
    "        buttonPlus = Button(self, text='+', bg ='white', height=1, width=3, relief=RAISED, command=lambda:self.action('+'))\n",
    "        buttonPlus.grid(row=2, column=3, padx=5, pady=5)\n",
    "        \n",
    "       \n",
    "        \n",
    "        button7 = Button(self, text='7', bg ='white', height=1, width=3, relief=RAISED, command=lambda:self.action(7))\n",
    "        button7.grid(row=3, column=0, padx=5, pady=5)\n",
    "        \n",
    "        button8 = Button(self, text='8', bg ='white', height=1, width=3, relief=RAISED, command=lambda:self.action(8))\n",
    "        button8.grid(row=3, column=1, padx=5, pady=5)\n",
    "        \n",
    "        button9 = Button(self, text='9', bg ='white', height=1, width=3, relief=RAISED, command=lambda:self.action(9))\n",
    "        button9.grid(row=3, column=2, padx=5, pady=5)\n",
    "        \n",
    "        buttonMinus = Button(self, text='-', bg ='white', width=3, relief=RAISED, command=lambda:self.action('-'))\n",
    "        buttonMinus.grid(row=3, column=3, padx=5, pady=5)\n",
    "        \n",
    "        \n",
    "        \n",
    "        button4 = Button(self, text='4', bg ='white', height=1, width=3, relief=RAISED, command=lambda:self.action(4))\n",
    "        button4.grid(row=4, column=0, padx=5, pady=5)\n",
    "        \n",
    "        button5 = Button(self, text='5', bg ='white', height=1, width=3, relief=RAISED, command=lambda:self.action(5))\n",
    "        button5.grid(row=4, column=1, padx=5, pady=5)\n",
    "        \n",
    "        button6 = Button(self, text='6', bg ='white', height=1, width=3, relief=RAISED, command=lambda:self.action(6))\n",
    "        button6.grid(row=4, column=2, padx=5, pady = 5)\n",
    "        \n",
    "        buttonMinus = Button(self, text='*', bg ='white', width=3, relief=RAISED, command=lambda:self.action('*'))\n",
    "        buttonMinus.grid(row=4, column=3, padx=5, pady=5)\n",
    "        \n",
    "       \n",
    "        \n",
    "        button1 = Button(self, text='1', bg ='white', height=1, width=3, relief=RAISED, command=lambda:self.action(1))\n",
    "        button1.grid(row=5, column=0, padx=5, pady=5)\n",
    "        \n",
    "        button2 = Button(self, text='2', bg ='white', height=1, width=3, relief=RAISED, command=lambda:self.action(2))\n",
    "        button2.grid(row=5, column=1, padx=5, pady=5)\n",
    "        \n",
    "        button3 = Button(self, text='3', bg ='white', height=1, width=3, relief=RAISED, command=lambda:self.action(3))\n",
    "        button3.grid(row=5, column=2, padx=5, pady=5)\n",
    "        \n",
    "        buttonDivide = Button(self, text='/', bg ='white', height=1, width=3, relief=RAISED, command=lambda:self.action('/'))\n",
    "        buttonDivide.grid(row=5, column=3, padx=5, pady=5)\n",
    "       \n",
    "        button0 = Button(self, text='0', bg ='white', height=1, width=3, relief=RAISED, command=lambda:self.action(0))\n",
    "        button0.grid(row=6, column=0, padx=5, pady=5)\n",
    "        \n",
    "        buttonPoint = Button(self, text='.', bg ='white', height=1, width=3, relief=RAISED, command=lambda:self.action('.'))\n",
    "        buttonPoint.grid(row=6, column=1, padx=5, pady=5)\n",
    "        \n",
    "        buttonPlusMinus = Button(self, text='+-', bg ='white', height=1, width=3, relief=RAISED, command=lambda:self.action('-'))\n",
    "        buttonPlusMinus.grid(row=6, column=2, padx=5, pady=5)\n",
    "        \n",
    "        buttonEquals = Button(self, text='=', bg ='white', height=1, width=3, relief=RAISED, command=lambda:self.equals())\n",
    "        buttonEquals.grid(row=6, column=3, padx=5, pady=5)\n",
    "        \n",
    "    def action(self,argi): \n",
    "        self.displayArea.insert(END,argi) \n",
    "                \n",
    "    def getandreplace(self): \n",
    "        self.expression = self.displayArea.get()  \n",
    "        self.newtext=self.expression.replace('x','*') \n",
    "  \n",
    "  \n",
    "    def equals(self): \n",
    "        self.getandreplace() \n",
    "        try:  \n",
    "            self.value= eval(self.newtext)  \n",
    "        except SyntaxError or NameError: \n",
    "            self.displayArea.delete(0,END) \n",
    "            self.displayArea.insert(0,'Invalid Input!') \n",
    "        else: \n",
    "            self.displayArea.delete(0,END) \n",
    "            self.displayArea.insert(0,self.value)\n",
    "            \n",
    "    def clearall(self): \n",
    "        self.displayArea.delete(0,END) \n",
    "        \n",
    "    def squareRoot(self): \n",
    "        self.getandreplace() \n",
    "        try: \n",
    "            # evaluate the expression using the eval function \n",
    "            self.value= eval(self.newtext)  \n",
    "        except SyntaxError or NameError: \n",
    "            self.displayArea.delete(0,END) \n",
    "            self.displayArea.insert(0,'Invalid Input!') \n",
    "        else: \n",
    "            self.sqrtval=math.sqrt(self.value) \n",
    "            self.displayArea.delete(0,END) \n",
    "            self.displayArea.insert(0,self.sqrtval) \n",
    "  \n",
    "    def square(self): \n",
    "        self.getandreplace() \n",
    "        try: \n",
    "            #evaluate the expression using the eval function \n",
    "            self.value= eval(self.newtext)  \n",
    "        except SyntaxError or NameError: \n",
    "            self.displayArea.delete(0,END) \n",
    "            self.displayArea.insert(0,'Invalid Input!') \n",
    "        else: \n",
    "            self.sqval=math.pow(self.value,2) \n",
    "            self.displayArea.delete(0,END) \n",
    "            self.displayArea.insert(0,self.sqval)\n",
    "class App(Frame):\n",
    "    \n",
    "    def __init__(self, master):\n",
    "        Frame.__init__(self, master)\n",
    "        mortgage = Mortgage(self)\n",
    "        mortgage.pack(side=LEFT)\n",
    "        calculator = Calculator(self)\n",
    "        calculator.pack(side=RIGHT)\n",
    "from tkinter import Tk\n",
    "root = Tk()\n",
    "app = App(root)\n",
    "app.pack()\n",
    "root.mainloop()"
   ]
  },
  {
   "cell_type": "raw",
   "metadata": {},
   "source": [
    "Question 5\n",
    "Write function collatz() that takes a positive integer x as input and prints the\n",
    "Collatz sequence starting at x. A Collatz sequence is obtained by repeatedly applying\n",
    "this rule to the previous number x in the sequence:\n",
    "x = {\n",
    "𝑥/2 𝑖𝑓 𝑥 𝑖𝑠 𝑒𝑣𝑒𝑛\n",
    "3𝑥 + 1 𝑖𝑓 𝑥 𝑖𝑠 𝑜𝑑d\n",
    "Your function should stop when the sequence gets to number 1. Your\n",
    "implementation must be recursive, without any loops.\n",
    ">>> collatz(1)\n",
    "1\n",
    ">>> collatz(10)\n",
    "10\n",
    "5\n",
    "16\n",
    "8\n",
    "4\n",
    "2\n",
    "1\n"
   ]
  },
  {
   "cell_type": "code",
   "execution_count": 15,
   "metadata": {},
   "outputs": [],
   "source": [
    "def collatz(x):                     \n",
    "    while(x!=1):                   \n",
    "        print(x)                    \n",
    "        if(x%2==0):                \n",
    "            x = int(x/2)            \n",
    "        else:\n",
    "            x = 3*x + 1            \n",
    "    print(x)"
   ]
  },
  {
   "cell_type": "code",
   "execution_count": 16,
   "metadata": {},
   "outputs": [
    {
     "name": "stdout",
     "output_type": "stream",
     "text": [
      "1\n"
     ]
    }
   ],
   "source": [
    "collatz(1)"
   ]
  },
  {
   "cell_type": "code",
   "execution_count": 17,
   "metadata": {},
   "outputs": [
    {
     "name": "stdout",
     "output_type": "stream",
     "text": [
      "10\n",
      "5\n",
      "16\n",
      "8\n",
      "4\n",
      "2\n",
      "1\n"
     ]
    }
   ],
   "source": [
    "collatz(10)"
   ]
  },
  {
   "cell_type": "raw",
   "metadata": {},
   "source": [
    "Question 6\n",
    "Write a recursive method binary() that takes a non-negative\n",
    "integer n and prints the binary representation of integer n.\n",
    ">>> binary(0)\n",
    "0\n",
    ">>> binary(1)\n",
    "1\n",
    ">>> binary(3)\n",
    "11\n",
    ">>> binary(9)\n",
    "1001"
   ]
  },
  {
   "cell_type": "code",
   "execution_count": 18,
   "metadata": {},
   "outputs": [],
   "source": [
    "def binary(x):  \n",
    "    if (x<0):   \n",
    "        print(\"Please enter the positive integer.\")     \n",
    "    else:\n",
    "        print(bin(x)[2:])"
   ]
  },
  {
   "cell_type": "code",
   "execution_count": 19,
   "metadata": {},
   "outputs": [
    {
     "name": "stdout",
     "output_type": "stream",
     "text": [
      "0\n"
     ]
    }
   ],
   "source": [
    "binary(0)"
   ]
  },
  {
   "cell_type": "code",
   "execution_count": 20,
   "metadata": {},
   "outputs": [
    {
     "name": "stdout",
     "output_type": "stream",
     "text": [
      "1\n"
     ]
    }
   ],
   "source": [
    "binary(1)"
   ]
  },
  {
   "cell_type": "code",
   "execution_count": 21,
   "metadata": {},
   "outputs": [
    {
     "name": "stdout",
     "output_type": "stream",
     "text": [
      "11\n"
     ]
    }
   ],
   "source": [
    "binary(3)"
   ]
  },
  {
   "cell_type": "code",
   "execution_count": 22,
   "metadata": {},
   "outputs": [
    {
     "name": "stdout",
     "output_type": "stream",
     "text": [
      "1001\n"
     ]
    }
   ],
   "source": [
    "binary(9)"
   ]
  },
  {
   "cell_type": "raw",
   "metadata": {},
   "source": [
    "Question 7\n",
    "Implement a class named HeadingParser that can be used to parse an HTML\n",
    "document, and retrieve and print all the headings in the document. You should\n",
    "implement your class as a subclass of HTMLParser, defined in Standard Library\n",
    "module html.parser. When fed a string containing HTML code, your class should \n",
    "print the headings, one per line and in the order in which they appear in the\n",
    "document. Each heading should be indented as follows: an h1 heading should have\n",
    "indentation 0, and h2 heading should have indentation 1, etc. Test your\n",
    "implementation using w3c.html.\n",
    ">>> infile = open('w3c.html')\n",
    ">>> content = infile.read()\n",
    ">>> infile.close()\n",
    ">>> hp = HeadingParser()\n",
    ">>> hp.feed(content)\n",
    "W3C Mission\n",
    "Principles\n"
   ]
  },
  {
   "cell_type": "code",
   "execution_count": 32,
   "metadata": {},
   "outputs": [],
   "source": [
    "from html.parser import HTMLParser\n",
    "class HeadingParser(HTMLParser):\n",
    "    def __init__(self):\n",
    "        HTMLParser.__init__(self)\n",
    "        self.tag = '' \n",
    "        \n",
    "    def handle_starttag(self, tag, attrs):\n",
    "        self.tag = tag\n",
    "\n",
    "    def handle_data(self, data):\n",
    "        if self.tag == 'h1':\n",
    "            print(data, end='')\n",
    "        elif self.tag == 'h2':\n",
    "            print(' '+data, end='')\n",
    "        elif self.tag == 'h3':\n",
    "            print('  '+data, end='')\n",
    "        elif self.tag == 'h4':\n",
    "            print('   '+data, end='')\n",
    "        elif self.tag == 'h5':\n",
    "            print('    '+data, end='')\n",
    "        elif self.tag == 'h6':\n",
    "            print('     '+data, end='')"
   ]
  },
  {
   "cell_type": "code",
   "execution_count": 34,
   "metadata": {},
   "outputs": [
    {
     "name": "stdout",
     "output_type": "stream",
     "text": [
      "W3C Mission\n",
      " Principles \n"
     ]
    }
   ],
   "source": [
    "infile = open('w3c.html')\n",
    "content = infile.read()\n",
    "infile.close()\n",
    "hp = HeadingParser()\n",
    "hp.feed(content)"
   ]
  },
  {
   "cell_type": "raw",
   "metadata": {},
   "source": [
    "Question 8\n",
    "Implement recursive function webdir() that takes as input: a URL (as a string) and\n",
    "non-negative integers depth and indent. Your function should visit every web\n",
    "page reachable from the starting URL web page in depth clicks or less, and print\n",
    "each web page's URL. As shown below, indentation, specified by indent, should\n",
    "be used to indicate the depth of a URL.\n",
    ">>>\n",
    "webdir('http://reed.cs.depaul.edu/lperkovic/csc242/test1.html'\n",
    ", 2, 0)\n",
    "http://reed.cs.depaul.edu/lperkovic/csc242/test1.html\n",
    " http://reed.cs.depaul.edu/lperkovic/csc242/test2.html\n",
    " http://reed.cs.depaul.edu/lperkovic/csc242/test4.html\n",
    " http://reed.cs.depaul.edu/lperkovic/csc242/test3.html\n",
    " http://reed.cs.depaul.edu/lperkovic/csc242/test4.html\n"
   ]
  },
  {
   "cell_type": "code",
   "execution_count": 35,
   "metadata": {},
   "outputs": [
    {
     "name": "stdout",
     "output_type": "stream",
     "text": [
      " http://reed.cs.depaul.edu/lperkovic/one.html\n",
      "         http://reed.cs.depaul.edu/lperkovic/two.html\n",
      "                 http://reed.cs.depaul.edu/lperkovic/four.html\n",
      "         http://reed.cs.depaul.edu/lperkovic/three.html\n",
      "                 http://reed.cs.depaul.edu/lperkovic/four.html\n"
     ]
    }
   ],
   "source": [
    "from html.parser import HTMLParser\n",
    "from urllib.request import urlopen\n",
    "from urllib.parse import urljoin\n",
    "\n",
    "class Appender(HTMLParser):\n",
    "    \n",
    "\n",
    "    def __init__(self, url):\n",
    "      \n",
    "        HTMLParser.__init__(self)\n",
    "        self.url = url\n",
    "        self.url_links = []\n",
    "\n",
    "\n",
    "    def append(self):\n",
    "        \n",
    "        return self.url_links\n",
    "\n",
    "\n",
    "\n",
    "\n",
    "    def handle_starttag(self, url_tag, attributes):\n",
    "        for a in attributes:\n",
    "            ab = urljoin(self.url, a[1])\n",
    "            if ab[:4] == 'http': \n",
    "                self.url_links.append(ab)\n",
    "                        \n",
    "i = 0\n",
    "def webdir(url, depth, i):\n",
    "   \n",
    "\n",
    "    depth = depth - 1    \n",
    "    print(i*'  ', url)         \n",
    "\n",
    "    objective = urlopen(url).read().decode()\n",
    "    collection = Appender(url)\n",
    "    collection.feed(objective)\n",
    "    urls = collection.append() \n",
    " \n",
    "    url_links = urls\n",
    "    i= i + 4\n",
    "\n",
    "\n",
    "    for link in url_links:\n",
    "        if depth < 0 or i < 0:\n",
    "            return 1\n",
    "        else:\n",
    "            webdir(link, depth, i)\n",
    "\n",
    "\n",
    "\n",
    "webdir('http://reed.cs.depaul.edu/lperkovic/one.html', 2, 0)"
   ]
  },
  {
   "cell_type": "raw",
   "metadata": {},
   "source": [
    "Question 9\n",
    "Write SQL queries on the below database table that return:\n",
    "a) All the temperature data.\n",
    "b) All the cities, but without repetition.\n",
    "c) All the records for India.\n",
    "d) All the Fall records.\n",
    "e) The city, country, and season for which the average rainfall is between 200\n",
    "and 400 millimeters.\n",
    "f) The city and country for which the average Fall temperature is above 20\n",
    "degrees, in increasing temperature order.\n",
    "g) The total annual rainfall for Cairo.\n",
    "h) The total rainfall for each season."
   ]
  },
  {
   "cell_type": "code",
   "execution_count": 83,
   "metadata": {},
   "outputs": [],
   "source": [
    "import sqlite3\n",
    "con = sqlite3.connect('web4.db')\n",
    "cur = con.cursor()\n",
    "cur.execute('CREATE TABLE rainfall(City varchar(50), Country varchar(50), Season varchar(50), Temperature float, Rainfall float)')\n",
    "data = [('Mumbai','India','Winter', 24.8, 5.9),\n",
    "('Mumbai','India','Spring', 28.4, 16.2),\n",
    "('Mumbai','India','Summer', 27.9, 1549.4),\n",
    "('Mumbai','India','Fall',27.6 ,346.0),\n",
    "('London','United Kingdom','Winter', 4.2, 207.7),\n",
    "('London','United Kingdom','Spring', 8.3, 169.6),\n",
    "('London','United Kingdom','Summer', 15.7, 157.0),\n",
    "('London','United Kingdom','Fall', 10.4, 218.5),\n",
    "('Cairo','Egypt','Winter', 13.6, 16.5),\n",
    "('Cairo','Egypt','Spring', 20.7, 6.5),\n",
    "('Cairo','Egypt','Summer', 27.7, 0.1),\n",
    "('Cairo','Egypt','Fall',22.2, 4.5)]\n",
    "cur.execute('INSERT INTO rainfall values(?,?,?,?,?)', data)\n",
    "cur.fetchall()"
   ]
  },
  {
   "cell_type": "code",
   "execution_count": 84,
   "metadata": {},
   "outputs": [
    {
     "data": {
      "text/plain": [
       "[(24.8,),\n",
       " (28.4,),\n",
       " (27.9,),\n",
       " (27.6,),\n",
       " (4.2,),\n",
       " (8.3,),\n",
       " (15.7,),\n",
       " (10.4,),\n",
       " (13.6,),\n",
       " (20.7,),\n",
       " (27.7,),\n",
       " (22.2,)]"
      ]
     },
     "execution_count": 84,
     "metadata": {},
     "output_type": "execute_result"
    }
   ],
   "source": [
    "cur.execute('SELECT Temperature FROM rainfall')\n",
    "cur.fetchall()"
   ]
  },
  {
   "cell_type": "code",
   "execution_count": 92,
   "metadata": {},
   "outputs": [
    {
     "data": {
      "text/plain": [
       "[('Mumbai',), ('London',), ('Cairo',)]"
      ]
     },
     "execution_count": 92,
     "metadata": {},
     "output_type": "execute_result"
    }
   ],
   "source": [
    "cur.execute('SELECT DISTINCT(City) FROM rainfall')\n",
    "cur.fetchall()"
   ]
  },
  {
   "cell_type": "code",
   "execution_count": 93,
   "metadata": {},
   "outputs": [
    {
     "data": {
      "text/plain": [
       "[('Mumbai', 'India', 'Winter', 24.8, 5.9),\n",
       " ('Mumbai', 'India', 'Spring', 28.4, 16.2),\n",
       " ('Mumbai', 'India', 'Summer', 27.9, 1549.4),\n",
       " ('Mumbai', 'India', 'Fall', 27.6, 346.0)]"
      ]
     },
     "execution_count": 93,
     "metadata": {},
     "output_type": "execute_result"
    }
   ],
   "source": [
    "cur.execute('SELECT * FROM rainfall WHERE Country = \"India\"')\n",
    "cur.fetchall()"
   ]
  },
  {
   "cell_type": "code",
   "execution_count": 95,
   "metadata": {},
   "outputs": [
    {
     "data": {
      "text/plain": [
       "[('Mumbai', 'India', 'Fall', 27.6, 346.0),\n",
       " ('London', 'United Kingdom', 'Fall', 10.4, 218.5),\n",
       " ('Cairo', 'Egypt', 'Fall', 22.2, 4.5)]"
      ]
     },
     "execution_count": 95,
     "metadata": {},
     "output_type": "execute_result"
    }
   ],
   "source": [
    "cur.execute('SELECT * FROM rainfall WHERE Season = \"Fall\"')\n",
    "cur.fetchall()"
   ]
  },
  {
   "cell_type": "code",
   "execution_count": 96,
   "metadata": {},
   "outputs": [
    {
     "data": {
      "text/plain": [
       "[('Mumbai', 'India', 'Fall'),\n",
       " ('London', 'United Kingdom', 'Winter'),\n",
       " ('London', 'United Kingdom', 'Fall')]"
      ]
     },
     "execution_count": 96,
     "metadata": {},
     "output_type": "execute_result"
    }
   ],
   "source": [
    "cur.execute('SELECT City, Country, Season FROM rainfall WHERE Rainfall between 200 AND 400')\n",
    "cur.fetchall()"
   ]
  },
  {
   "cell_type": "code",
   "execution_count": 97,
   "metadata": {},
   "outputs": [
    {
     "data": {
      "text/plain": [
       "[('Mumbai', 'India'), ('Cairo', 'Egypt')]"
      ]
     },
     "execution_count": 97,
     "metadata": {},
     "output_type": "execute_result"
    }
   ],
   "source": [
    "cur.execute('SELECT City, Country FROM rainfall WHERE Season=\"Fall\" AND Temperature > 20 ORDER BY Temperature DESC')\n",
    "cur.fetchall()"
   ]
  },
  {
   "cell_type": "code",
   "execution_count": 98,
   "metadata": {},
   "outputs": [
    {
     "data": {
      "text/plain": [
       "[(27.6,)]"
      ]
     },
     "execution_count": 98,
     "metadata": {},
     "output_type": "execute_result"
    }
   ],
   "source": [
    "cur.execute('SELECT SUM(Rainfall) FROM rainfall WHERE City= \"Cairo\"')\n",
    "cur.fetchall()"
   ]
  },
  {
   "cell_type": "code",
   "execution_count": 99,
   "metadata": {},
   "outputs": [
    {
     "data": {
      "text/plain": [
       "[('Fall', 569.0),\n",
       " ('Spring', 192.29999999999998),\n",
       " ('Summer', 1706.5),\n",
       " ('Winter', 230.1)]"
      ]
     },
     "execution_count": 99,
     "metadata": {},
     "output_type": "execute_result"
    }
   ],
   "source": [
    "cur.execute('SELECT Season, SUM(Rainfall) FROM rainfall GROUP BY Season')\n",
    "cur.fetchall()"
   ]
  },
  {
   "cell_type": "raw",
   "metadata": {},
   "source": [
    "Question 10\n",
    ". Suppose list words is defined as follows:\n",
    ">>> words = ['The', 'quick', 'brown', 'fox', 'jumps', 'over',\n",
    "'the', 'lazy', 'dog']\n",
    "Write list comprehension expressions that use list words and generate the following\n",
    "lists:\n",
    "a) ['THE', 'QUICK', 'BROWN', 'FOX', 'JUMPS', 'OVER', 'THE',\n",
    "'LAZY', 'DOG']\n",
    "b) ['the', 'quick', 'brown', 'fox', 'jumps', 'over', 'the',\n",
    "'lazy', 'dog']\n",
    "c) [3, 5, 5, 3, 5, 4, 3, 4, 3] (the list of lengths of words in list\n",
    "words).\n",
    "d) [['THE', 'the', 3], ['QUICK', 'quick', 5], ['BROWN',\n",
    "'brown', 5], ['FOX', 'fox', 3], ['JUMPS', 'jumps', 5],\n",
    "['OVER', 'over', 4], ['THE', 'the', 3], ['LAZY', 'lazy',\n",
    "4], ['DOG', 'dog', 3]] (the list containing a list for every word of list\n",
    "words, where each list contains the word in uppercase and lowercase and the\n",
    "length of the word.)\n",
    "e) ['The', 'quick', 'brown', 'fox', 'jumps', 'over', 'the',\n",
    "'lazy', 'dog'] (the list of words in list words containing 4 or more\n",
    "characters.)"
   ]
  },
  {
   "cell_type": "code",
   "execution_count": 100,
   "metadata": {},
   "outputs": [],
   "source": [
    "words = ['The', 'quick', 'brown', 'fox', 'jumps', 'over','the', 'lazy', 'dog']"
   ]
  },
  {
   "cell_type": "code",
   "execution_count": 101,
   "metadata": {},
   "outputs": [
    {
     "name": "stdout",
     "output_type": "stream",
     "text": [
      "['THE', 'QUICK', 'BROWN', 'FOX', 'JUMPS', 'OVER', 'THE', 'LAZY', 'DOG']\n"
     ]
    }
   ],
   "source": [
    "print([i.upper() for i in words])"
   ]
  },
  {
   "cell_type": "code",
   "execution_count": 102,
   "metadata": {},
   "outputs": [
    {
     "name": "stdout",
     "output_type": "stream",
     "text": [
      "['the', 'quick', 'brown', 'fox', 'jumps', 'over', 'the', 'lazy', 'dog']\n"
     ]
    }
   ],
   "source": [
    "print([i.lower() for i in words])"
   ]
  },
  {
   "cell_type": "code",
   "execution_count": 103,
   "metadata": {},
   "outputs": [
    {
     "name": "stdout",
     "output_type": "stream",
     "text": [
      "[3, 5, 5, 3, 5, 4, 3, 4, 3]\n"
     ]
    }
   ],
   "source": [
    "print([len(i) for i in words])"
   ]
  },
  {
   "cell_type": "code",
   "execution_count": 104,
   "metadata": {},
   "outputs": [
    {
     "name": "stdout",
     "output_type": "stream",
     "text": [
      "[['THE', 'the', 3], ['QUICK', 'quick', 5], ['BROWN', 'brown', 5], ['FOX', 'fox', 3], ['JUMPS', 'jumps', 5], ['OVER', 'over', 4], ['THE', 'the', 3], ['LAZY', 'lazy', 4], ['DOG', 'dog', 3]]\n"
     ]
    }
   ],
   "source": [
    "print([[i.upper(),i.lower(),len(i)] for i in words])"
   ]
  },
  {
   "cell_type": "code",
   "execution_count": 106,
   "metadata": {},
   "outputs": [
    {
     "name": "stdout",
     "output_type": "stream",
     "text": [
      "['quick', 'brown', 'jumps', 'over', 'lazy']\n"
     ]
    }
   ],
   "source": [
    "print([i for i in words if len(i) >= 4])"
   ]
  },
  {
   "cell_type": "code",
   "execution_count": null,
   "metadata": {},
   "outputs": [],
   "source": []
  }
 ],
 "metadata": {
  "kernelspec": {
   "display_name": "Python 3",
   "language": "python",
   "name": "python3"
  },
  "language_info": {
   "codemirror_mode": {
    "name": "ipython",
    "version": 3
   },
   "file_extension": ".py",
   "mimetype": "text/x-python",
   "name": "python",
   "nbconvert_exporter": "python",
   "pygments_lexer": "ipython3",
   "version": "3.8.3"
  }
 },
 "nbformat": 4,
 "nbformat_minor": 4
}
